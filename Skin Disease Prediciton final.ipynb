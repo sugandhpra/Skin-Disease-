{
 "cells": [
  {
   "cell_type": "code",
   "execution_count": 1,
   "id": "3436df7f-c201-4050-8c13-95a67e7dd9bc",
   "metadata": {},
   "outputs": [],
   "source": [
    "import cv2\n",
    "import numpy as np\n",
    "from tensorflow.keras.models import load_model\n",
    "from tensorflow.keras.preprocessing import image"
   ]
  },
  {
   "cell_type": "code",
   "execution_count": 3,
   "id": "38d179e0-f7ea-463b-9210-60fa23df7e96",
   "metadata": {},
   "outputs": [],
   "source": [
    "model = load_model('C:\\\\Users\\\\POWER BI\\\\Documents\\\\Sugandh\\\\org model\\\\skin_disease_model_v6.h5', compile=False)"
   ]
  },
  {
   "cell_type": "code",
   "execution_count": 4,
   "id": "e4702e44-2f38-4ee0-8c0a-1fb73c13e6ce",
   "metadata": {},
   "outputs": [],
   "source": [
    "def preprocess_img(img):\n",
    "    img = cv2.resize(img, (224, 224))  # Resize image to match model input size\n",
    "    img = img / 255.0  # Normalize pixel values\n",
    "    return img"
   ]
  },
  {
   "cell_type": "code",
   "execution_count": 5,
   "id": "d1a35f51-0e7a-4029-8b29-2df6bc51822f",
   "metadata": {},
   "outputs": [],
   "source": [
    "class_info = {\n",
    "    0: {  # Actinic keratosis\n",
    "        'name': 'Actinic keratosis',\n",
    "        'description': 'Actinic keratosis is a rough, scaly patch on the skin that develops from years of sun exposure. It is considered a precancerous condition and should be evaluated by a dermatologist.',\n",
    "        'remedial_measures': 'Treatment options include cryotherapy, topical medications, photodynamic therapy, and surgical removal.'\n",
    "    },\n",
    "    1: {  # Atopic Dermatitis\n",
    "        'name': 'Atopic Dermatitis',\n",
    "        'description': 'Atopic dermatitis, also known as eczema, is a chronic skin condition characterized by dry, itchy, inflamed skin. It often occurs in individuals with a personal or family history of allergies.',\n",
    "        'remedial_measures': 'Treatment involves moisturizing the skin, avoiding triggers, using topical corticosteroids or immunomodulators, and managing stress.'\n",
    "    },\n",
    "    2: {  # Benign keratosis\n",
    "        'name': 'Benign keratosis',\n",
    "        'description': 'Benign keratosis, also known as seborrheic keratosis, is a non-cancerous growth on the skin. It typically appears as a waxy, stuck-on lesion with a rough or scaly surface.',\n",
    "        'remedial_measures': 'Benign keratoses usually do not require treatment unless they become symptomatic or cosmetically bothersome. Options include cryotherapy, curettage, and laser therapy.'\n",
    "    },\n",
    "    3: {  # Dermatofibroma\n",
    "        'name': 'Dermatofibroma',\n",
    "        'description': 'Dermatofibroma is a common benign skin lesion that appears as a firm, raised nodule on the skin. It often has a dimple or \"dimple sign\" when compressed.',\n",
    "        'remedial_measures': 'Dermatofibromas typically do not require treatment unless they cause symptoms or cosmetic concerns. Surgical removal may be performed if necessary.'\n",
    "    },\n",
    "    4: {  # Melanocytic nevus\n",
    "        'name': 'Melanocytic nevus',\n",
    "        'description': 'Melanocytic nevus, commonly known as a mole, is a benign growth of melanocytes. Moles can vary in color, size, and shape.',\n",
    "        'remedial_measures': 'Most moles do not require treatment unless they change in size, shape, or color, or if they cause discomfort. Surgical removal may be recommended for cosmetic or medical reasons.'\n",
    "    },\n",
    "    5: {  # Melanoma\n",
    "        'name': 'Melanoma',\n",
    "        'description': 'Melanoma is a type of skin cancer that develops from melanocytes, the cells that produce pigment in the skin. It is considered the most dangerous form of skin cancer.',\n",
    "        'remedial_measures': 'Treatment options for melanoma include surgical excision, chemotherapy, radiation therapy, immunotherapy, and targeted therapy. Early detection and treatment are crucial for a favorable prognosis.'\n",
    "    },\n",
    "    6: {  # Squamous cell carcinoma\n",
    "        'name': 'Squamous cell carcinoma',\n",
    "        'description': 'Squamous cell carcinoma is a common type of skin cancer that develops from squamous cells in the skin\\'s upper layers. It often appears as a firm, red nodule or a flat, scaly lesion.',\n",
    "        'remedial_measures': 'Treatment options for squamous cell carcinoma include surgical excision, Mohs surgery, radiation therapy, and topical medications. Early detection and treatment are important for preventing spread and recurrence.'\n",
    "    },\n",
    "    7: {  # Tinea Ringworm Candidiasis\n",
    "        'name': 'Tinea Ringworm Candidiasis',\n",
    "        'description': 'Tinea, also known as ringworm or candidiasis, is a fungal infection of the skin that causes red, scaly, itchy patches. It can occur on various parts of the body, including the scalp, feet, groin, and nails.',\n",
    "          'remedial_measures': 'Treatment for tinea depends on the location and severity of the infection. Options include antifungal medications (topical or oral), keeping the affected area clean and dry, and avoiding sharing personal items.'\n",
    "    },\n",
    "    8: {  # Vascular lesion\n",
    "        'name': 'Vascular lesion',\n",
    "        'description': 'Vascular lesions are abnormalities of the blood vessels that can appear as birthmarks, port wine stains, hemangiomas, or telangiectasias (spider veins). They can vary in size, shape, and color.',\n",
    "        'remedial_measures': 'Treatment for vascular lesions depends on the type and location of the lesion. Options include laser therapy, sclerotherapy, surgical excision, and topical medications.'\n",
    "    }\n",
    "}"
   ]
  },
  {
   "cell_type": "code",
   "execution_count": 6,
   "id": "90cc8435-2fda-48d0-959b-05598d248078",
   "metadata": {},
   "outputs": [
    {
     "name": "stdout",
     "output_type": "stream",
     "text": [
      "1/1 [==============================] - 2s 2s/step\n"
     ]
    }
   ],
   "source": [
    "# Load the image file\n",
    "img_path = img_path = 'C:/Users/POWER BI/Downloads/VWH_DermNet_Ringworm_01-1c12fdbf9fec43ab83fde37f624af748.jpg'  # Corrected image path\n",
    "  # Replace with the path to your image file\n",
    "img = cv2.imread(img_path)\n",
    "\n",
    "# Preprocess image\n",
    "img = preprocess_img(img)\n",
    "\n",
    "# Expand dimensions to match model input shape\n",
    "img = np.expand_dims(img, axis=0)\n",
    "\n",
    "# Make prediction\n",
    "pred = model.predict(img)\n",
    "\n",
    "# Get predicted class label\n",
    "pred_label = np.argmax(pred)\n",
    "pred_class_info = class_info.get(pred_label)"
   ]
  },
  {
   "cell_type": "code",
   "execution_count": 7,
   "id": "c80e49bd-7a8e-4023-a517-1c341e824c9d",
   "metadata": {},
   "outputs": [
    {
     "name": "stdout",
     "output_type": "stream",
     "text": [
      "Image Path: C:/Users/POWER BI/Downloads/VWH_DermNet_Ringworm_01-1c12fdbf9fec43ab83fde37f624af748.jpg\n",
      "Image Shape: (960, 960, 3)\n"
     ]
    }
   ],
   "source": [
    "print(\"Image Path:\", img_path)\n",
    "img = cv2.imread(img_path)\n",
    "print(\"Image Shape:\", img.shape)"
   ]
  },
  {
   "cell_type": "code",
   "execution_count": 8,
   "id": "e3963c5e-2750-45dc-9108-4343a3deae4b",
   "metadata": {},
   "outputs": [
    {
     "name": "stdout",
     "output_type": "stream",
     "text": [
      "Predicted Class: Tinea Ringworm Candidiasis\n",
      "Description: Tinea, also known as ringworm or candidiasis, is a fungal infection of the skin that causes red, scaly, itchy patches. It can occur on various parts of the body, including the scalp, feet, groin, and nails.\n",
      "Remedial Measures: Treatment for tinea depends on the location and severity of the infection. Options include antifungal medications (topical or oral), keeping the affected area clean and dry, and avoiding sharing personal items.\n"
     ]
    }
   ],
   "source": [
    "print(\"Predicted Class:\", pred_class_info['name'])\n",
    "print(\"Description:\", pred_class_info['description'])\n",
    "print(\"Remedial Measures:\", pred_class_info['remedial_measures'])"
   ]
  },
  {
   "cell_type": "code",
   "execution_count": 9,
   "id": "6732342d-7a4f-422e-b046-c3fd3e3d2f8d",
   "metadata": {},
   "outputs": [
    {
     "name": "stdout",
     "output_type": "stream",
     "text": [
      "Predicted Probabilities: [[5.3342083e-04 3.6040658e-01 3.2014999e-05 9.3870643e-05 1.0385703e-05\n",
      "  1.8204737e-05 7.2993669e-07 6.3890475e-01 8.9848626e-08]]\n"
     ]
    }
   ],
   "source": [
    "print(\"Predicted Probabilities:\", pred)"
   ]
  }
 ],
 "metadata": {
  "kernelspec": {
   "display_name": "Python 3 (ipykernel)",
   "language": "python",
   "name": "python3"
  },
  "language_info": {
   "codemirror_mode": {
    "name": "ipython",
    "version": 3
   },
   "file_extension": ".py",
   "mimetype": "text/x-python",
   "name": "python",
   "nbconvert_exporter": "python",
   "pygments_lexer": "ipython3",
   "version": "3.8.18"
  }
 },
 "nbformat": 4,
 "nbformat_minor": 5
}
